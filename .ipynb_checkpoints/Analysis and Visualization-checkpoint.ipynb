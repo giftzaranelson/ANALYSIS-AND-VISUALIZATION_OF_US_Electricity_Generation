{
 "cells": [
  {
   "cell_type": "markdown",
   "id": "5a917a89",
   "metadata": {},
   "source": [
    "## import library"
   ]
  },
  {
   "cell_type": "code",
   "execution_count": 70,
   "id": "556cf7fd",
   "metadata": {},
   "outputs": [],
   "source": [
    "import numpy as np\n",
    "\n",
    "import csv"
   ]
  },
  {
   "cell_type": "markdown",
   "id": "87e7fc59",
   "metadata": {},
   "source": [
    "## importing dataset"
   ]
  },
  {
   "cell_type": "code",
   "execution_count": 71,
   "id": "50d16f2e",
   "metadata": {},
   "outputs": [],
   "source": [
    "data = []\n",
    "\n",
    "with open(\"./raw_data\",\"r\") as csvfile:\n",
    "    file_reader = csv.reader(csvfile)\n",
    "    \n",
    "    for row in file_reader:\n",
    "        data.append(row)\n",
    "        \n",
    "# change data into numpy array\n",
    "data = np.array(data)"
   ]
  },
  {
   "cell_type": "code",
   "execution_count": 72,
   "id": "472d28d6",
   "metadata": {},
   "outputs": [
    {
     "data": {
      "text/plain": [
       "array([['MSN', 'YYYYMM', 'Value', 'Column_Order', 'Description', 'Unit'],\n",
       "       ['CLETPUS', '194913', '135451.32', '1',\n",
       "        'Electricity Net Generation From Coal, All Sectors',\n",
       "        'Million Kilowatthours'],\n",
       "       ['CLETPUS', '195013', '154519.994', '1',\n",
       "        'Electricity Net Generation From Coal, All Sectors',\n",
       "        'Million Kilowatthours'],\n",
       "       ...,\n",
       "       ['ELETPUS', '202209', '350919.559', '13',\n",
       "        'Electricity Net Generation Total (including from sources not shown), All Sectors',\n",
       "        'Million Kilowatthours'],\n",
       "       ['ELETPUS', '202210', '314048.288', '13',\n",
       "        'Electricity Net Generation Total (including from sources not shown), All Sectors',\n",
       "        'Million Kilowatthours'],\n",
       "       ['ELETPUS', '202211', '323198.745', '13',\n",
       "        'Electricity Net Generation Total (including from sources not shown), All Sectors',\n",
       "        'Million Kilowatthours']], dtype='<U80')"
      ]
     },
     "execution_count": 72,
     "metadata": {},
     "output_type": "execute_result"
    }
   ],
   "source": [
    "data"
   ]
  },
  {
   "cell_type": "code",
   "execution_count": 73,
   "id": "33a3f90c",
   "metadata": {},
   "outputs": [
    {
     "data": {
      "text/plain": [
       "(8737, 6)"
      ]
     },
     "execution_count": 73,
     "metadata": {},
     "output_type": "execute_result"
    }
   ],
   "source": [
    "data.shape"
   ]
  },
  {
   "cell_type": "markdown",
   "id": "98934493",
   "metadata": {},
   "source": [
    "## saving file"
   ]
  },
  {
   "cell_type": "code",
   "execution_count": 74,
   "id": "52a147c8",
   "metadata": {},
   "outputs": [],
   "source": [
    "np.savetxt(\"energy.csv\",data, fmt=\"%s\", delimiter=\",\")"
   ]
  },
  {
   "cell_type": "markdown",
   "id": "e53c6bb0",
   "metadata": {},
   "source": [
    "## describe data"
   ]
  },
  {
   "cell_type": "code",
   "execution_count": 75,
   "id": "8701f1fc",
   "metadata": {},
   "outputs": [
    {
     "data": {
      "text/plain": [
       "array([['MSN', 'YYYYMM', 'Value', 'Column_Order', 'Description', 'Unit'],\n",
       "       ['CLETPUS', '194913', '135451.32', '1',\n",
       "        'Electricity Net Generation From Coal, All Sectors',\n",
       "        'Million Kilowatthours'],\n",
       "       ['CLETPUS', '195013', '154519.994', '1',\n",
       "        'Electricity Net Generation From Coal, All Sectors',\n",
       "        'Million Kilowatthours'],\n",
       "       ...,\n",
       "       ['ELETPUS', '202209', '350919.559', '13',\n",
       "        'Electricity Net Generation Total (including from sources not shown), All Sectors',\n",
       "        'Million Kilowatthours'],\n",
       "       ['ELETPUS', '202210', '314048.288', '13',\n",
       "        'Electricity Net Generation Total (including from sources not shown), All Sectors',\n",
       "        'Million Kilowatthours'],\n",
       "       ['ELETPUS', '202211', '323198.745', '13',\n",
       "        'Electricity Net Generation Total (including from sources not shown), All Sectors',\n",
       "        'Million Kilowatthours']], dtype='<U80')"
      ]
     },
     "execution_count": 75,
     "metadata": {},
     "output_type": "execute_result"
    }
   ],
   "source": [
    "data\n"
   ]
  },
  {
   "cell_type": "code",
   "execution_count": 76,
   "id": "df1b53a7",
   "metadata": {},
   "outputs": [
    {
     "data": {
      "text/plain": [
       "array(['MSN', 'YYYYMM', 'Value', 'Column_Order', 'Description', 'Unit'],\n",
       "      dtype='<U80')"
      ]
     },
     "execution_count": 76,
     "metadata": {},
     "output_type": "execute_result"
    }
   ],
   "source": [
    "header = data[0,:]\n",
    "header"
   ]
  },
  {
   "cell_type": "code",
   "execution_count": 77,
   "id": "dfd9e052",
   "metadata": {
    "scrolled": true
   },
   "outputs": [
    {
     "name": "stdout",
     "output_type": "stream",
     "text": [
      "header:\n",
      " ['MSN' 'YYYYMM' 'Value' 'Column_Order' 'Description' 'Unit'] \n",
      "\u000b",
      "alues\n",
      " [['CLETPUS' '194913' '135451.32' '1'\n",
      "  'Electricity Net Generation From Coal, All Sectors'\n",
      "  'Million Kilowatthours']\n",
      " ['CLETPUS' '195013' '154519.994' '1'\n",
      "  'Electricity Net Generation From Coal, All Sectors'\n",
      "  'Million Kilowatthours']\n",
      " ['CLETPUS' '195113' '185203.657' '1'\n",
      "  'Electricity Net Generation From Coal, All Sectors'\n",
      "  'Million Kilowatthours']\n",
      " ...\n",
      " ['ELETPUS' '202209' '350919.559' '13'\n",
      "  'Electricity Net Generation Total (including from sources not shown), All Sectors'\n",
      "  'Million Kilowatthours']\n",
      " ['ELETPUS' '202210' '314048.288' '13'\n",
      "  'Electricity Net Generation Total (including from sources not shown), All Sectors'\n",
      "  'Million Kilowatthours']\n",
      " ['ELETPUS' '202211' '323198.745' '13'\n",
      "  'Electricity Net Generation Total (including from sources not shown), All Sectors'\n",
      "  'Million Kilowatthours']]\n"
     ]
    }
   ],
   "source": [
    "header = data[0,:]\n",
    "values = data[1:,:]\n",
    "\n",
    "print(\"header:\\n\",header,\"\\n\\values\\n\",values)"
   ]
  },
  {
   "cell_type": "markdown",
   "id": "95a49005",
   "metadata": {},
   "source": [
    "## sources of energy in us"
   ]
  },
  {
   "cell_type": "code",
   "execution_count": 78,
   "id": "ba32c539",
   "metadata": {},
   "outputs": [
    {
     "data": {
      "text/plain": [
       "8736"
      ]
     },
     "execution_count": 78,
     "metadata": {},
     "output_type": "execute_result"
    }
   ],
   "source": [
    "len(values[:,4])"
   ]
  },
  {
   "cell_type": "code",
   "execution_count": 79,
   "id": "236bfe3b",
   "metadata": {},
   "outputs": [
    {
     "data": {
      "text/plain": [
       "array(['Electricity Net Generation From Coal, All Sectors',\n",
       "       'Electricity Net Generation From Conventional Hydroelectric Power, All Sectors',\n",
       "       'Electricity Net Generation From Geothermal, All Sectors',\n",
       "       'Electricity Net Generation From Hydroelectric Pumped Storage, All Sectors',\n",
       "       'Electricity Net Generation From Natural Gas, All Sectors',\n",
       "       'Electricity Net Generation From Nuclear Electric Power, All Sectors',\n",
       "       'Electricity Net Generation From Other Gases, All Sectors',\n",
       "       'Electricity Net Generation From Petroleum, All Sectors',\n",
       "       'Electricity Net Generation From Solar, All Sectors',\n",
       "       'Electricity Net Generation From Waste, All Sectors',\n",
       "       'Electricity Net Generation From Wind, All Sectors',\n",
       "       'Electricity Net Generation From Wood, All Sectors',\n",
       "       'Electricity Net Generation Total (including from sources not shown), All Sectors'],\n",
       "      dtype='<U80')"
      ]
     },
     "execution_count": 79,
     "metadata": {},
     "output_type": "execute_result"
    }
   ],
   "source": [
    "np.unique(values[:,4])"
   ]
  },
  {
   "cell_type": "code",
   "execution_count": 80,
   "id": "bb9b9657",
   "metadata": {},
   "outputs": [
    {
     "name": "stdout",
     "output_type": "stream",
     "text": [
      "US generate electricity from 13 source\n"
     ]
    }
   ],
   "source": [
    "num_of_source = len(np.unique(values[:,4]))\n",
    "\n",
    "print(\"US generate electricity from {} source\".format(num_of_source))"
   ]
  },
  {
   "cell_type": "markdown",
   "id": "3ecec21a",
   "metadata": {},
   "source": [
    "## Extract the wind energy data"
   ]
  },
  {
   "cell_type": "code",
   "execution_count": 81,
   "id": "ff27a2d5",
   "metadata": {},
   "outputs": [
    {
     "data": {
      "text/plain": [
       "(array([False, False, False, ..., False, False, False]),)"
      ]
     },
     "execution_count": 81,
     "metadata": {},
     "output_type": "execute_result"
    }
   ],
   "source": [
    "values[:,4] == 'Electricity Net Generation From Wind, All Sectors',\n"
   ]
  },
  {
   "cell_type": "code",
   "execution_count": 82,
   "id": "e711728b",
   "metadata": {},
   "outputs": [],
   "source": [
    "wind_cond = values[:,4] =='Electricity Net Generation From Wind, All Sectors',\n"
   ]
  },
  {
   "cell_type": "code",
   "execution_count": 83,
   "id": "d6add03d",
   "metadata": {},
   "outputs": [],
   "source": [
    "wind_data = values[wind_cond]"
   ]
  },
  {
   "cell_type": "code",
   "execution_count": 84,
   "id": "8be85e1b",
   "metadata": {},
   "outputs": [
    {
     "data": {
      "text/plain": [
       "(672, 6)"
      ]
     },
     "execution_count": 84,
     "metadata": {},
     "output_type": "execute_result"
    }
   ],
   "source": [
    "wind_data.shape"
   ]
  },
  {
   "cell_type": "markdown",
   "id": "c92b1714",
   "metadata": {},
   "source": [
    "## save into file"
   ]
  },
  {
   "cell_type": "code",
   "execution_count": 85,
   "id": "673f8f7d",
   "metadata": {},
   "outputs": [],
   "source": [
    "np.savetxt(\"energy.csv\",data, fmt=\"%s\", delimiter=\",\")"
   ]
  },
  {
   "cell_type": "code",
   "execution_count": 86,
   "id": "dc3a01f1",
   "metadata": {},
   "outputs": [
    {
     "data": {
      "text/plain": [
       "(array([False, False, False, ..., False, False, False]),)"
      ]
     },
     "execution_count": 86,
     "metadata": {},
     "output_type": "execute_result"
    }
   ],
   "source": [
    "values[:,4] == 'Electricity Net Generation from solar, All Sectors',"
   ]
  },
  {
   "cell_type": "code",
   "execution_count": 87,
   "id": "670d63ec",
   "metadata": {},
   "outputs": [],
   "source": [
    "solar_cond = values[:,4] == 'Electricity Net Generation from solar, All Sectors', "
   ]
  },
  {
   "cell_type": "code",
   "execution_count": 88,
   "id": "e8101999",
   "metadata": {},
   "outputs": [
    {
     "data": {
      "text/plain": [
       "array([], shape=(0, 6), dtype=bool)"
      ]
     },
     "execution_count": 88,
     "metadata": {},
     "output_type": "execute_result"
    }
   ],
   "source": [
    "solar_data == values[solar_cond]"
   ]
  },
  {
   "cell_type": "code",
   "execution_count": 89,
   "id": "1d635f2b",
   "metadata": {},
   "outputs": [
    {
     "data": {
      "text/plain": [
       "(0, 6)"
      ]
     },
     "execution_count": 89,
     "metadata": {},
     "output_type": "execute_result"
    }
   ],
   "source": [
    "solar_data.shape"
   ]
  },
  {
   "cell_type": "code",
   "execution_count": 90,
   "id": "4501432e",
   "metadata": {},
   "outputs": [],
   "source": [
    "np.savetxt(\"solar.csv\",data,fmt=\"%s\", delimiter=\",\")"
   ]
  },
  {
   "cell_type": "code",
   "execution_count": 98,
   "id": "8f6818c5",
   "metadata": {
    "scrolled": true
   },
   "outputs": [
    {
     "data": {
      "text/plain": [
       "(array([False, False, False, ..., False, False, False]),)"
      ]
     },
     "execution_count": 98,
     "metadata": {},
     "output_type": "execute_result"
    }
   ],
   "source": [
    "values[:,4] == 'Electricity Net Generation From Waste, All Sectors',\n"
   ]
  },
  {
   "cell_type": "code",
   "execution_count": 99,
   "id": "b48eb0c5",
   "metadata": {},
   "outputs": [],
   "source": [
    "waste_cond = values[:,4] == 'Electricity Net Generation From Waste, All Sectors',\n",
    "  "
   ]
  },
  {
   "cell_type": "code",
   "execution_count": 105,
   "id": "308c7621",
   "metadata": {},
   "outputs": [],
   "source": [
    "np.savetxt(\"waste.csv\",data,fmt=\"%s\",delimiter=\",\")"
   ]
  },
  {
   "cell_type": "code",
   "execution_count": 106,
   "id": "eba19584",
   "metadata": {},
   "outputs": [
    {
     "data": {
      "text/plain": [
       "(array([False, False, False, ..., False, False, False]),)"
      ]
     },
     "execution_count": 106,
     "metadata": {},
     "output_type": "execute_result"
    }
   ],
   "source": [
    "values[:,4] == 'Electricity Net Generation From Petroleum, All Sectors',\n"
   ]
  },
  {
   "cell_type": "code",
   "execution_count": 107,
   "id": "028750ed",
   "metadata": {},
   "outputs": [],
   "source": [
    "petroleum_cond = 'Electricity Net Generation From Petroleum, All Sectors',\n"
   ]
  },
  {
   "cell_type": "code",
   "execution_count": 111,
   "id": "8d6ca052",
   "metadata": {},
   "outputs": [],
   "source": [
    "np.savetxt(\"petroleum.csv\",data,fmt=\"%s\",delimiter=\",\")"
   ]
  },
  {
   "cell_type": "code",
   "execution_count": 112,
   "id": "ccef8abd",
   "metadata": {},
   "outputs": [
    {
     "data": {
      "text/plain": [
       "(array([False, False, False, ..., False, False, False]),)"
      ]
     },
     "execution_count": 112,
     "metadata": {},
     "output_type": "execute_result"
    }
   ],
   "source": [
    "values[:,4]== 'Electricity Net Generation From Wood, All Sectors',"
   ]
  },
  {
   "cell_type": "code",
   "execution_count": 113,
   "id": "b883c452",
   "metadata": {},
   "outputs": [],
   "source": [
    "wood_cond = 'Electricity Net Generation From Wood, All Sectors',\n"
   ]
  },
  {
   "cell_type": "code",
   "execution_count": 114,
   "id": "7c3c4765",
   "metadata": {},
   "outputs": [],
   "source": [
    "np.savetxt(\"wood.csv\",data,fmt=\"%s\",delimiter=\",\")"
   ]
  },
  {
   "cell_type": "code",
   "execution_count": 116,
   "id": "e9e16586",
   "metadata": {},
   "outputs": [
    {
     "data": {
      "text/plain": [
       "(array([False, False, False, ..., False, False, False]),)"
      ]
     },
     "execution_count": 116,
     "metadata": {},
     "output_type": "execute_result"
    }
   ],
   "source": [
    "values[:,4]== 'Electricity Net Generation From Other Gases, All Sectors',\n"
   ]
  },
  {
   "cell_type": "code",
   "execution_count": 118,
   "id": "db2fcc02",
   "metadata": {},
   "outputs": [],
   "source": [
    "otherGases_cond = 'Electricity Net Generation From Other Gases, All Sectors',\n"
   ]
  },
  {
   "cell_type": "code",
   "execution_count": 123,
   "id": "c5d18cfc",
   "metadata": {},
   "outputs": [],
   "source": [
    "np.savetxt(\"other gases\",data,fmt=\"%s\",delimiter=\",\")"
   ]
  },
  {
   "cell_type": "code",
   "execution_count": 124,
   "id": "2b3f1239",
   "metadata": {},
   "outputs": [
    {
     "data": {
      "text/plain": [
       "(array([False, False, False, ..., False, False, False]),)"
      ]
     },
     "execution_count": 124,
     "metadata": {},
     "output_type": "execute_result"
    }
   ],
   "source": [
    "values[:,4]== 'Electricity Net Generation From Nuclear Electric Power, All Sectors',\n"
   ]
  },
  {
   "cell_type": "code",
   "execution_count": 127,
   "id": "11330702",
   "metadata": {},
   "outputs": [],
   "source": [
    "NuclearElectricpower_cond = 'Electricity Net Generation From Nuclear Electric Power, All Sectors',\n"
   ]
  },
  {
   "cell_type": "code",
   "execution_count": 129,
   "id": "4e7125ee",
   "metadata": {},
   "outputs": [],
   "source": [
    "np.savetxt(\"NuclearElectricpower\",data,fmt=\"%s\",delimiter=\",\")"
   ]
  },
  {
   "cell_type": "code",
   "execution_count": 132,
   "id": "166adb30",
   "metadata": {},
   "outputs": [],
   "source": [
    "Hydroelectricpumpedstorage_cond = 'Electricity Net Generation From Hydroelectric Pumped Storage, All Sectors',\n"
   ]
  },
  {
   "cell_type": "code",
   "execution_count": 133,
   "id": "cb41ddeb",
   "metadata": {},
   "outputs": [
    {
     "data": {
      "text/plain": [
       "(array([False, False, False, ..., False, False, False]),)"
      ]
     },
     "execution_count": 133,
     "metadata": {},
     "output_type": "execute_result"
    }
   ],
   "source": [
    "values[:,4]==  'Electricity Net Generation From Hydroelectric Pumped Storage, All Sectors',\n"
   ]
  },
  {
   "cell_type": "code",
   "execution_count": 134,
   "id": "8a362467",
   "metadata": {},
   "outputs": [],
   "source": [
    "np.savetxt(\"Hydroelectricpumped\",data,fmt=\"%s\",delimiter=\",\")"
   ]
  },
  {
   "cell_type": "code",
   "execution_count": 135,
   "id": "0772f5e4",
   "metadata": {},
   "outputs": [],
   "source": [
    "NaturalGas_cond = 'Electricity Net Generation From Natural Gas, All Sectors',\n"
   ]
  },
  {
   "cell_type": "code",
   "execution_count": 136,
   "id": "1e47e147",
   "metadata": {},
   "outputs": [
    {
     "data": {
      "text/plain": [
       "(array([False, False, False, ..., False, False, False]),)"
      ]
     },
     "execution_count": 136,
     "metadata": {},
     "output_type": "execute_result"
    }
   ],
   "source": [
    "values[:,4]== 'Electricity Net Generation From Natural Gas, All Sectors',\n"
   ]
  },
  {
   "cell_type": "code",
   "execution_count": 140,
   "id": "4b236a4e",
   "metadata": {},
   "outputs": [],
   "source": [
    "np.savetxt(\"NaturalGas\",data,fmt=\"%s\",delimiter=\",\")"
   ]
  },
  {
   "cell_type": "code",
   "execution_count": 141,
   "id": "bf889770",
   "metadata": {},
   "outputs": [],
   "source": [
    "Geothermal_cond= 'Electricity Net Generation From Geothermal, All Sectors',\n"
   ]
  },
  {
   "cell_type": "code",
   "execution_count": 142,
   "id": "61c7f3be",
   "metadata": {},
   "outputs": [
    {
     "data": {
      "text/plain": [
       "(array([False, False, False, ..., False, False, False]),)"
      ]
     },
     "execution_count": 142,
     "metadata": {},
     "output_type": "execute_result"
    }
   ],
   "source": [
    "values[:,4]== 'Electricity Net Generation From Geothermal, All Sectors',\n"
   ]
  },
  {
   "cell_type": "code",
   "execution_count": 143,
   "id": "321c2fa0",
   "metadata": {},
   "outputs": [],
   "source": [
    "np.savetxt(\"Geothermal\",data,fmt=\"%s\",delimiter=\",\")"
   ]
  },
  {
   "cell_type": "code",
   "execution_count": 144,
   "id": "882b9686",
   "metadata": {},
   "outputs": [],
   "source": [
    "Coal_cond= 'Electricity Net Generation From Coal, All Sectors',\n"
   ]
  },
  {
   "cell_type": "code",
   "execution_count": 145,
   "id": "96fabc47",
   "metadata": {},
   "outputs": [
    {
     "data": {
      "text/plain": [
       "(array([ True,  True,  True, ..., False, False, False]),)"
      ]
     },
     "execution_count": 145,
     "metadata": {},
     "output_type": "execute_result"
    }
   ],
   "source": [
    "values[:,4]== 'Electricity Net Generation From Coal, All Sectors',\n"
   ]
  },
  {
   "cell_type": "code",
   "execution_count": 148,
   "id": "f99aaeb8",
   "metadata": {},
   "outputs": [],
   "source": [
    "np.savetxt(\"Coal\",data,fmt=\"%s\",delimiter=\",\")"
   ]
  },
  {
   "cell_type": "code",
   "execution_count": 149,
   "id": "676f9879",
   "metadata": {},
   "outputs": [],
   "source": [
    "Hydroelectricpower_cond= 'Electricity Net Generation From Conventional Hydroelectric Power, All Sectors',\n"
   ]
  },
  {
   "cell_type": "code",
   "execution_count": 151,
   "id": "4ffbadea",
   "metadata": {},
   "outputs": [
    {
     "data": {
      "text/plain": [
       "(array([False, False, False, ..., False, False, False]),)"
      ]
     },
     "execution_count": 151,
     "metadata": {},
     "output_type": "execute_result"
    }
   ],
   "source": [
    "values[:,4] == 'Electricity Net Generation From Conventional Hydroelectric Power, All Sectors',\n"
   ]
  },
  {
   "cell_type": "code",
   "execution_count": 153,
   "id": "bd0f7968",
   "metadata": {},
   "outputs": [],
   "source": [
    "np.savetxt(\"HydroelectricPower\",data,fmt=\"%s\",delimiter=\",\")"
   ]
  },
  {
   "cell_type": "code",
   "execution_count": null,
   "id": "647e524c",
   "metadata": {},
   "outputs": [],
   "source": []
  }
 ],
 "metadata": {
  "kernelspec": {
   "display_name": "Python 3 (ipykernel)",
   "language": "python",
   "name": "python3"
  },
  "language_info": {
   "codemirror_mode": {
    "name": "ipython",
    "version": 3
   },
   "file_extension": ".py",
   "mimetype": "text/x-python",
   "name": "python",
   "nbconvert_exporter": "python",
   "pygments_lexer": "ipython3",
   "version": "3.10.9"
  }
 },
 "nbformat": 4,
 "nbformat_minor": 5
}
